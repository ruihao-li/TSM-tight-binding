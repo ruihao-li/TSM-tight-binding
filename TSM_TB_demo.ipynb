{
 "cells": [
  {
   "cell_type": "code",
   "execution_count": 1,
   "metadata": {},
   "outputs": [],
   "source": [
    "import kwant\n",
    "import kwant.continuum as kct\n",
    "import numpy as np\n",
    "import matplotlib.pyplot as plt\n",
    "import ipywidgets\n",
    "import warnings\n",
    "warnings.filterwarnings('ignore')\n",
    "\n",
    "from custom_functions import *\n",
    "\n",
    "%matplotlib inline\n",
    "# %matplotlib qt"
   ]
  },
  {
   "cell_type": "markdown",
   "metadata": {},
   "source": [
    "### Weyl Semimetal Tight-binding Hamiltonian\n",
    "\n",
    "We start with a two-band effective Hamiltonian for a Weyl semimetal (WSM) [based on C. M. Wang et al., PRL **119**, 136806 (2017)]:\n",
    "$$\n",
    "H = A(k_x\\sigma_x + k_y\\sigma_y) + \\left[M_0 - M_1 k_z^2 - M_2(k_x^2 + k_y^2)\\right]\\sigma_z + D_1 k_y^2 + D_2(k_x^2 + k_z^2).\n",
    "$$\n",
    "First, let's have a look at the spectrum of the bulk (infinite) system. We can plot it as a function of $k_z$ (note that the Weyl points lie along the $z$-direction)."
   ]
  },
  {
   "cell_type": "code",
   "execution_count": 2,
   "metadata": {},
   "outputs": [],
   "source": [
    "H_Weyl = \"\"\"\n",
    "+ A * (k_x * sigma_x + k_y * sigma_y)\n",
    "+ (M0 - M1 * k_z**2 - M2 * (k_x**2 + k_y**2)) * sigma_z\n",
    "+ (D1 * k_y**2 + D2 * (k_x**2 + k_y**2)) * sigma_0\n",
    "\"\"\"\n",
    "\n",
    "HW_cont = kct.sympify(H_Weyl)\n",
    "template = kct.discretize(HW_cont)"
   ]
  },
  {
   "cell_type": "code",
   "execution_count": 3,
   "metadata": {},
   "outputs": [
    {
     "data": {
      "application/vnd.jupyter.widget-view+json": {
       "model_id": "7b13b2fac28044e58c3a784ba5ca7b28",
       "version_major": 2,
       "version_minor": 0
      },
      "text/plain": [
       "interactive(children=(FloatText(value=1.5, description='A', step=0.1), FloatText(value=1.0, description='M0', …"
      ]
     },
     "metadata": {},
     "output_type": "display_data"
    }
   ],
   "source": [
    "kx = ('k_x', 0)\n",
    "ky = ('k_y', 0)\n",
    "kz = ('k_z', np.linspace(-np.pi, np.pi, 300))\n",
    "def WSM_spectrum(A, M0, M1, M2, D1, D2):\n",
    "    params = dict(A=A, M0=M0, M1=M1, M2=M2, D1=D1, D2=D2)\n",
    "    return plot_spectrum(syst=template, params=params, kx=kx, ky=ky, kz=kz)\n",
    "\n",
    "interact(WSM_spectrum, dict(A=1.5, M0=1, M1=1, M2=0.5, D1=0, D2=0), step_size=0.1)"
   ]
  },
  {
   "cell_type": "markdown",
   "metadata": {},
   "source": [
    "We can also plot the spectrum as a function of two momenta, e.g., $k_x$ and $k_z$."
   ]
  },
  {
   "cell_type": "code",
   "execution_count": 5,
   "metadata": {},
   "outputs": [
    {
     "data": {
      "application/vnd.jupyter.widget-view+json": {
       "model_id": "8ddd2279b6bf4f3bbc4a960a6920e395",
       "version_major": 2,
       "version_minor": 0
      },
      "text/plain": [
       "interactive(children=(FloatText(value=1.5, description='A', step=0.05), FloatText(value=1.0, description='M0',…"
      ]
     },
     "metadata": {},
     "output_type": "display_data"
    }
   ],
   "source": [
    "kx = ('k_x', np.linspace(-np.pi, np.pi, 200))\n",
    "ky = ('k_y', 0)\n",
    "kz = ('k_z', np.linspace(-np.pi, np.pi, 200))\n",
    "interact(WSM_spectrum, dict(A=1.5, M0=1, M1=1, M2=0.5, D1=0, D2=0))"
   ]
  },
  {
   "cell_type": "markdown",
   "metadata": {},
   "source": [
    "Now, let's inspect the spectrum of a finite WSM slab, which is cut in the $y$-direction. "
   ]
  },
  {
   "cell_type": "code",
   "execution_count": 6,
   "metadata": {},
   "outputs": [
    {
     "data": {
      "application/vnd.jupyter.widget-view+json": {
       "model_id": "e27e101fec774e6d9aa30ffee976b00d",
       "version_major": 2,
       "version_minor": 0
      },
      "text/plain": [
       "interactive(children=(FloatText(value=1.5, description='A', step=0.1), FloatText(value=1.0, description='M0', …"
      ]
     },
     "metadata": {},
     "output_type": "display_data"
    }
   ],
   "source": [
    "kx = ('k_x', 0)\n",
    "kz = ('k_z', np.linspace(-3, 3, 200))\n",
    "params = dict(A=1.5, M0=1, M1=1, M2=0.5, D1=0, D2=0)\n",
    "\n",
    "def WSM_finite(A, M0, M1, M2, D1, D2):\n",
    "    params = dict(A=A, M0=M0, M1=M1, M2=M2, D1=D1, D2=D2)\n",
    "    return plot_spectrum(syst=template, params=params, kx=kx, kz=kz, ts_dir='xz', L=30)\n",
    "\n",
    "interact(WSM_finite, params, step_size=0.1)"
   ]
  },
  {
   "cell_type": "markdown",
   "metadata": {},
   "source": [
    "The other thing we can inspect is how the wavefunction density corresponding to a particular band (at a fixed $\\textbf k$-point) is distributed across the slab configuration. In particular, we can look at the two lowest eigenstates."
   ]
  },
  {
   "cell_type": "code",
   "execution_count": 7,
   "metadata": {},
   "outputs": [
    {
     "data": {
      "image/png": "[encoded data removed]",
      "text/plain": [
       "<Figure size 576x432 with 1 Axes>"
      ]
     },
     "metadata": {
      "needs_background": "light"
     },
     "output_type": "display_data"
    }
   ],
   "source": [
    "kx = ('k_x', 0)\n",
    "kz = ('k_z', 0)\n",
    "plot_wfs(template, params, kx=kx, kz=kz, L=30)"
   ]
  },
  {
   "cell_type": "markdown",
   "metadata": {},
   "source": [
    "We see clearly that at $k_z = 0$, the lowest eigenstates reside primarily at the two surfaces of the slab, indicating that they correspond to the surface states. This is consistent with the spectrum above, where we can clearly see the Fermi arc states at $k_z = 0$. Now as we increase the value of $k_z$, we see that the lowest eigenstates gradually diffuse into the bulk, eventually leading to the disappearance of the surface states. "
   ]
  },
  {
   "cell_type": "code",
   "execution_count": 8,
   "metadata": {},
   "outputs": [
    {
     "data": {
      "application/vnd.jupyter.widget-view+json": {
       "model_id": "17237c9d8db04c65852647f9cfdee670",
       "version_major": 2,
       "version_minor": 0
      },
      "text/plain": [
       "interactive(children=(FloatText(value=0.0, description='kz', step=0.3), Output()), _dom_classes=('widget-inter…"
      ]
     },
     "metadata": {},
     "output_type": "display_data"
    }
   ],
   "source": [
    "def int_wfs(kz):\n",
    "    kz = (\"k_z\", kz)\n",
    "    plot_wfs(template, params, kx=kx, kz=kz, L=30)\n",
    "\n",
    "interact(int_wfs, dict(kz=0), step_size=0.3)"
   ]
  },
  {
   "cell_type": "markdown",
   "metadata": {},
   "source": [
    "Finally, we can compute the Berry curvature of a given set of bands as a function of $(k_x, k_z)$ with the `WSM_BC` function. Now that in this function, the bands are labelled from the lowest (negative) to the highest (positive) energy."
   ]
  },
  {
   "cell_type": "code",
   "execution_count": 10,
   "metadata": {},
   "outputs": [],
   "source": [
    "params = dict(A=1.5, M0=2.5, M1=1, M2=0.5, D1=0.5, D2=0.1)\n",
    "ks = np.linspace(-np.pi, np.pi, 150)\n",
    "band_indices = [29]\n",
    "\n",
    "bc = WSM_BC(syst=template, params=params, ts_dir='yz', L=30, band_indices=band_indices, ks=ks)"
   ]
  },
  {
   "cell_type": "code",
   "execution_count": 13,
   "metadata": {},
   "outputs": [
    {
     "data": {
      "text/plain": [
       "<matplotlib.image.AxesImage at 0x7fcede9e0940>"
      ]
     },
     "execution_count": 13,
     "metadata": {},
     "output_type": "execute_result"
    },
    {
     "data": {
      "image/png": "[encoded data removed]",
      "text/plain": [
       "<Figure size 720x576 with 1 Axes>"
      ]
     },
     "metadata": {
      "needs_background": "light"
     },
     "output_type": "display_data"
    }
   ],
   "source": [
    "def plot_BC(bc, ks):\n",
    "    plt.figure(figsize=(10,8))\n",
    "    vmax = max(np.abs(bc).min(), np.abs(bc).max())\n",
    "    return plt.imshow(bc, extent=(ks.min(), ks.max(), ks.max(), ks.min()),\n",
    "           interpolation='nearest', cmap='RdYlBu_r', vmin=-vmax, vmax=vmax)\n",
    "\n",
    "plot_BC(bc, ks)"
   ]
  },
  {
   "cell_type": "code",
   "execution_count": null,
   "metadata": {},
   "outputs": [],
   "source": []
  },
  {
   "cell_type": "markdown",
   "metadata": {},
   "source": [
    "### Dirac Semimetal Tight-binding Hamiltonian\n",
    "We begin with the DSM tight-binding Hamiltonian in $\\textbf k$-space, which reads \n",
    "$$\n",
    "\\begin{equation*}\n",
    "\\begin{split}\n",
    "    H_0(\\textbf{k}) =&\\ \\varepsilon(\\textbf k) + (m - t\\cos k_x - t\\cos k_y - t_3 \\cos k_z)\\sigma_z + t' (\\sin k_x \\sigma_x s_z - \\sin k_y \\sigma_y) \\\\\n",
    "    & +t'_3 \\sin k_z(\\cos k_x - \\cos k_y)\\sigma_x s_x + 2t'_3 \\sin k_z \\sin k_x \\sin k_y \\sigma_x s_y\n",
    "\\end{split}\n",
    "\\end{equation*}\n",
    "$$\n",
    "in the basis $\\Psi_{\\textbf k}^\\dagger = \\left(c^\\dagger_{1,\\uparrow,\\textbf k}, c^\\dagger_{1,\\downarrow,\\textbf k}, c^\\dagger_{2,\\uparrow,\\textbf k}, c^\\dagger_{2,\\downarrow,\\textbf k}\\right)$, where $\\sigma_i$ and $s_i$ are Pauli matrices representing the orbital and spin degrees of freedom, respectively. For simplicity, we will take $\\varepsilon(\\textbf k) = 0$. This Hamiltonian has time-reversal symmetry, inversion symmetry, and $C_{4z}$-rotational symmetry, which ensure the stability of the two Dirac points on the $k_z$ axis. In order to generate the chiral-anomaly-induced nonlinear Hall (CNH) effect, we need to create an asymmetric Fermi surface around the $\\Gamma$ point. To do that, we add the following three terms to the Hamiltonian $H_0(\\textbf k)$: $2R (1 - \\cos k_z)$ introducing tilting to the Dirac cones, $v_I \\sin k_z\\sigma_z s_z$ breaking the inversion symmetry, and $J_\\text{ex} s_z$ breaking the time-reversal symmetry. The last term may be induced by an external magnetic field, i.e., the Zeeman splitting $J_z = \\frac{1}{2}\\tilde g\\mu_B B_z$, with $\\tilde g$ being the effective Lande factor.\n",
    "\n",
    "This tight-binding model can be put on a three-dimensional cubic lattice, with 2 orbitals on each lattice site. By Fourier transform, we can obtain the following real-space Hamiltonian:\n",
    "$$\n",
    "\\begin{equation*}\n",
    "\\begin{split}\n",
    "    H = \\sum_{\\textbf r; \\alpha\\alpha'; s s'}& m c^\\dagger_{\\alpha,s,\\textbf r}c_{\\alpha',s',\\textbf r}(\\sigma_z)_{\\alpha\\alpha'}\\delta_{ss'} + 2R c^\\dagger_{\\alpha,s,\\textbf r}c_{\\alpha',s',\\textbf r}\\delta_{\\alpha\\alpha'}\\delta_{ss'} + J_\\text{ex} c^\\dagger_{\\alpha,s,\\textbf r}c_{\\alpha',s',\\textbf r}\\delta_{\\alpha\\alpha'}(s_z)_{ss'} \\\\\n",
    "    & -\\frac{t}{2}\\left[c^\\dagger_{\\alpha,s,\\textbf r}c_{\\alpha',s',\\textbf r+\\hat{\\textbf x}}(\\sigma_z)_{\\alpha\\alpha'}\\delta_{ss'} +c^\\dagger_{\\alpha,s,\\textbf r}c_{\\alpha',s',\\textbf r+\\hat{\\textbf y}}(\\sigma_z)_{\\alpha\\alpha'}\\delta_{ss'} + \\text{h.c.}\\right] - \\frac{t_3}{2}\\left[c^\\dagger_{\\alpha,s,\\textbf r}c_{\\alpha',s',\\textbf r+\\hat{\\textbf z}}(\\sigma_z)_{\\alpha\\alpha'}\\delta_{ss'} + \\text{h.c.} \\right] \\\\\n",
    "    & +\\frac{t'}{2}\\left[-i c^\\dagger_{\\alpha,s,\\textbf r}c_{\\alpha',s',\\textbf r+\\hat{\\textbf x}}(\\sigma_x)_{\\alpha\\alpha'}(s_z)_{ss'} + i c^\\dagger_{\\alpha,s,\\textbf r}c_{\\alpha',s',\\textbf r+\\hat{\\textbf y}}(\\sigma_y)_{\\alpha\\alpha'}\\delta_{ss'} +\\text{h.c.} \\right] \\\\\n",
    "    & +\\frac{t'_3}{4}\\left[-i c^\\dagger_{\\alpha,s,\\textbf r}(c_{\\alpha',s',\\textbf r+\\hat{\\textbf x}+\\hat{\\textbf z}} + c_{\\alpha',s',\\textbf r-\\hat{\\textbf x}+\\hat{\\textbf z}} - c_{\\alpha',s',\\textbf r+\\hat{\\textbf y}+\\hat{\\textbf z}} - c_{\\alpha',s',\\textbf r-\\hat{\\textbf y}+\\hat{\\textbf z}})(\\sigma_x)_{\\alpha\\alpha'}(s_x)_{ss'} + \\text{h.c.} \\right] \\\\\n",
    "    & +\\frac{t'_3}{4}\\left[-i c^\\dagger_{\\alpha,s,\\textbf r}(c_{\\alpha',s',\\textbf r+\\hat{\\textbf x}-\\hat{\\textbf y}+\\hat{\\textbf z}} + c_{\\alpha',s',\\textbf r-\\hat{\\textbf x}+\\hat{\\textbf y}+\\hat{\\textbf z}} - c_{\\alpha',s',\\textbf r+\\hat{\\textbf x}+\\hat{\\textbf y}+\\hat{\\textbf z}} - c_{\\alpha',s',\\textbf r-\\hat{\\textbf x}-\\hat{\\textbf y}+\\hat{\\textbf z}})(\\sigma_x)_{\\alpha\\alpha'}(s_y)_{ss'} + \\text{h.c.} \\right] \\\\\n",
    "    & -R\\left[c^\\dagger_{\\alpha,s,\\textbf r}c_{\\alpha',s',\\textbf r+\\hat{\\textbf z}}\\delta_{\\alpha\\alpha'}\\delta_{ss'} + \\text{h.c.} \\right] + \\frac{v_I}{2}\\left[-ic^\\dagger_{\\alpha,s,\\textbf r}c_{\\alpha',s',\\textbf r+\\hat{\\textbf z}}(\\sigma_z)_{\\alpha\\alpha'}(s_z)_{ss'} + \\text{h.c.} \\right].\n",
    "\\end{split}\n",
    "\\end{equation*}\n",
    "$$\n",
    "Moreover, to fully include the effect of the magnetic field, we also need to perform the *Peierls substitution* on all the hopping parameters, e.g.,\n",
    "$$\n",
    "t \\to t\\exp\\left(-i\\frac{e}{\\hbar}\\int \\textbf A\\cdot d\\,\\textbf l \\right),\n",
    "$$\n",
    "where $\\int \\textbf A\\cdot d\\,\\textbf l$ is the integral of the vector potential along the hopping path. One very convenient gauge for representing a homogeneous field $B\\hat{\\textbf z}$ is the Landau gauge: \n",
    "$$\n",
    "\\textbf A = -B y \\hat{\\textbf{x}}.\n",
    "$$\n",
    "We now construct the lattice model above in `kwant`."
   ]
  },
  {
   "cell_type": "code",
   "execution_count": 14,
   "metadata": {},
   "outputs": [],
   "source": [
    "# 4 orbitals per site: 2 spins * 2 orbitals\n",
    "lat = kwant.lattice.cubic(1, norbs=4)\n",
    "DSM_infinite = kwant.Builder(kwant.TranslationalSymmetry(*lat.prim_vecs))\n",
    "hoppings_xz = (((1,0,1), lat), ((-1,0,1), lat))\n",
    "hoppings_yz = (((0,1,1), lat), ((0,-1,1), lat))\n",
    "hoppings_pxyz = (((1,-1,1), lat), ((-1,1,1), lat))\n",
    "hoppings_nxyz = (((1,1,1), lat), ((-1,-1,1), lat))\n",
    "\n",
    "def onsite(site, m, J, R):\n",
    "    return m*pauli.szs0 + J*pauli.s0sz + 2*R*pauli.s0s0\n",
    "\n",
    "def hopx(site1, site2, t, tp, Bz):\n",
    "    x1, y1, z1 = site1.pos\n",
    "    x2, y2, z2 = site2.pos\n",
    "    return (-0.5*t*pauli.szs0 - 0.5j*tp*pauli.sxsz) * np.exp(-0.5j*Bz*(y1+y2)*(x1-x2))\n",
    "\n",
    "def hopy(site1, site2, t, tp):\n",
    "    return -0.5*t*pauli.szs0 + 0.5j*tp*pauli.sys0\n",
    "\n",
    "def hopz(site1, site2, t3, R, vi):\n",
    "    return -0.5*t3*pauli.szs0 - R*pauli.s0s0 - 0.5j*vi*pauli.szsz\n",
    "\n",
    "# high-order hoppings\n",
    "def hopxz(site1, site2, t3p, Bz):\n",
    "    x1, y1, z1 = site1.pos\n",
    "    x2, y2, z2 = site2.pos\n",
    "    return (-0.25j*t3p*pauli.sxsx) * np.exp(-0.5j*Bz*(y1+y2)*(x1-x2))\n",
    "\n",
    "def hopyz(site1, site2, t3p):\n",
    "    return 0.25j*t3p*pauli.sxsx\n",
    "\n",
    "def hop_pxyz(site1, site2, t3p, Bz):\n",
    "    x1, y1, z1 = site1.pos\n",
    "    x2, y2, z2 = site2.pos\n",
    "    return (-0.25j*t3p*pauli.sxsy) * np.exp(-0.5j*Bz*(y1+y2)*(x1-x2))\n",
    "\n",
    "def hop_nxyz(site1, site2, t3p, Bz):\n",
    "    return 0.25j*t3p*pauli.sxsy\n",
    "\n",
    "\n",
    "DSM_infinite[lat(0, 0, 0)] = onsite\n",
    "DSM_infinite[kwant.HoppingKind((1, 0, 0), lat)] = hopx\n",
    "DSM_infinite[kwant.HoppingKind((0, 1, 0), lat)] = hopy\n",
    "DSM_infinite[kwant.HoppingKind((0, 0, 1), lat)] = hopz\n",
    "DSM_infinite[[kwant.HoppingKind(*hopping) for hopping in hoppings_xz]] = hopxz\n",
    "DSM_infinite[[kwant.HoppingKind(*hopping) for hopping in hoppings_yz]] = hopyz\n",
    "DSM_infinite[[kwant.HoppingKind(*hopping) for hopping in hoppings_pxyz]] = hop_pxyz\n",
    "DSM_infinite[[kwant.HoppingKind(*hopping) for hopping in hoppings_nxyz]] = hop_nxyz"
   ]
  },
  {
   "cell_type": "markdown",
   "metadata": {},
   "source": [
    "Again, we can make a finite slab and inspect the energy spectrum."
   ]
  },
  {
   "cell_type": "code",
   "execution_count": 16,
   "metadata": {},
   "outputs": [
    {
     "data": {
      "application/vnd.jupyter.widget-view+json": {
       "model_id": "a4b4bd4bd39c4728ad2cc09f8357d892",
       "version_major": 2,
       "version_minor": 0
      },
      "text/plain": [
       "interactive(children=(FloatText(value=1.0, description='m', step=0.2), FloatText(value=1.0, description='t', s…"
      ]
     },
     "metadata": {},
     "output_type": "display_data"
    }
   ],
   "source": [
    "L = 30\n",
    "kx = ('k_x', 0)\n",
    "kz = ('k_z', np.linspace(-3, 3, 400))\n",
    "params = dict(m=1, t=1, t3=2, tp=1, t3p=0, R=0, vi=0, J=0, Bz=0)\n",
    "\n",
    "def DSM_spectrum(m, t, t3, tp, t3p, R, vi, J, Bz):\n",
    "    params = dict(m=m, t=t, t3=t3, tp=tp, t3p=t3p, R=R, vi=vi, J=J, Bz=Bz)\n",
    "    return plot_spectrum(syst=DSM_infinite, params=params, kx=kx, kz=kz, ts_dir='xz', L=L)\n",
    "\n",
    "interact(DSM_spectrum, params, step_size=0.2)    "
   ]
  },
  {
   "cell_type": "markdown",
   "metadata": {},
   "source": [
    "One can see that as $m$ increases, the surface state topology seems to change, e.g., comparing $m=1$ with $m=3$ with other parameters fixed. This needs to be understood. "
   ]
  },
  {
   "cell_type": "code",
   "execution_count": null,
   "metadata": {},
   "outputs": [],
   "source": []
  },
  {
   "cell_type": "code",
   "execution_count": null,
   "metadata": {},
   "outputs": [],
   "source": []
  }
 ],
 "metadata": {
  "interpreter": {
   "hash": "32144526e3e48b1da32ceaab4ff5300b6c301be9548fec2b2ea4fc4d43cc13cc"
  },
  "kernelspec": {
   "display_name": "Python 3.8.8 ('base')",
   "language": "python",
   "name": "python3"
  },
  "language_info": {
   "codemirror_mode": {
    "name": "ipython",
    "version": 3
   },
   "file_extension": ".py",
   "mimetype": "text/x-python",
   "name": "python",
   "nbconvert_exporter": "python",
   "pygments_lexer": "ipython3",
   "version": "3.8.8"
  },
  "orig_nbformat": 4
 },
 "nbformat": 4,
 "nbformat_minor": 2
}
